{
 "cells": [
  {
   "cell_type": "code",
   "execution_count": 2,
   "metadata": {},
   "outputs": [],
   "source": [
    "import os\n",
    "import base64\n",
    "import re\n",
    "import csv\n",
    "from dotenv import load_dotenv, find_dotenv\n",
    "from azure.core.credentials import AzureKeyCredential\n",
    "from azure.search.documents import SearchClient\n",
    "from azure.search.documents.indexes import SearchIndexClient\n",
    "from azure.search.documents.indexes.models import *\n",
    "from azure.search.documents.models import VectorizedQuery\n",
    "import openai\n",
    "from openai import AzureOpenAI"
   ]
  },
  {
   "cell_type": "code",
   "execution_count": 3,
   "metadata": {},
   "outputs": [],
   "source": [
    "# Get Environment settings from .env file\n",
    "load_dotenv(find_dotenv())\n",
    "\n",
    "# Azure AI Search Index Settings\n",
    "service_endpoint = f\"{os.getenv('AZURE_SEARCH_SERVICE_ENDPOINT')}\"\n",
    "index_creds = AzureKeyCredential(os.getenv(\"AZURE_SEARCH_INDEX_KEY\"))\n",
    "index_name = os.getenv(\"AZURE_SEARCH_INDEX_NAME_TEXT\")\n",
    "\n",
    "## Create a client for querying the index\n",
    "search_client = SearchClient(endpoint=service_endpoint, index_name=index_name, credential=index_creds)\n",
    "## Create an index\n",
    "index_client = SearchIndexClient(service_endpoint, index_creds)\n",
    "\n",
    "# Azure Openai Settings\n",
    "openai.api_type = \"azure\"\n",
    "openai.api_key = os.getenv(\"OPENAI_API_KEY\")\n",
    "openai.azure_endpoint = os.getenv(\"OPENAI_API_ENDPOINT\")\n",
    "openai.api_version = os.getenv(\"OPENAI_API_VERSION\")\n",
    "\n",
    "azure_openai_client = AzureOpenAI(\n",
    "    api_key = os.getenv(\"OPENAI_API_KEY\"),\n",
    "    api_version = os.getenv(\"OPENAI_API_VERSION\"),\n",
    "    azure_endpoint = os.getenv(\"OPENAI_API_ENDPOINT\")\n",
    ")"
   ]
  },
  {
   "cell_type": "code",
   "execution_count": 4,
   "metadata": {},
   "outputs": [],
   "source": [
    "def get_embedding(text, model=\"textembedding\"): # model=[Deployment Name], DONOT change this\n",
    "   text = text.replace(\"\\n\", \" \")\n",
    "   return azure_openai_client.embeddings.create(input = [text], model=model).data[0].embedding"
   ]
  },
  {
   "cell_type": "code",
   "execution_count": 8,
   "metadata": {},
   "outputs": [
    {
     "name": "stdout",
     "output_type": "stream",
     "text": [
      "Finished Indexing: 101 items in total\n"
     ]
    }
   ],
   "source": [
    "sections = []\n",
    "with open('ch1to3.csv', 'rt', newline='', encoding='utf-8', errors='ignore') as csvfile:\n",
    "    csvreader = csv.reader(csvfile)\n",
    "    for item in csvreader:\n",
    "        section = {\n",
    "            \"id\": f\"{item[0]}-{item[1]}-{item[2]}\",\n",
    "            \"Chapter\": item[0],\n",
    "            \"Section\": item[1],\n",
    "            \"Paragraph\": item[2],\n",
    "            \"Content\": item[3],\n",
    "            \"Embedding\": get_embedding(item[3]),\n",
    "        }\n",
    "        sections.append(section)\n",
    "print(f\"Finished Indexing: {len(sections)} items in total\")\n"
   ]
  },
  {
   "cell_type": "code",
   "execution_count": 11,
   "metadata": {},
   "outputs": [
    {
     "data": {
      "text/plain": [
       "<azure.search.documents.indexes.models._index.SearchIndex at 0x1e38c2d3890>"
      ]
     },
     "execution_count": 11,
     "metadata": {},
     "output_type": "execute_result"
    }
   ],
   "source": [
    "index = SearchIndex(\n",
    "    name=index_name,\n",
    "    fields=[\n",
    "        SimpleField(name=\"id\", type=\"Edm.String\", key=True),\n",
    "        SearchableField(name=\"Chapter\", type=\"Edm.String\", analyzer_name=\"standard.lucene\", \n",
    "                        filterable=True, sortable=True, facetable=True, searchable=True),\n",
    "        SearchableField(name=\"Section\", type=\"Edm.String\", analyzer_name=\"standard.lucene\",\n",
    "                        filterable=True, sortable=True, facetable=True, searchable=True),\n",
    "        SearchableField(name=\"Paragraph\", type=\"Edm.String\", analyzer_name=\"standard.lucene\",\n",
    "                        filterable=True, sortable=True, facetable=True, searchable=True),        \n",
    "        SearchableField(name=\"Content\", type=\"Edm.String\", analyzer_name=\"standard.lucene\",\n",
    "                        filterable=True, sortable=True, facetable=True, searchable=True),\n",
    "        SearchField(name=\"Embedding\", type=SearchFieldDataType.Collection(SearchFieldDataType.Single),  \n",
    "            hidden=False, searchable=True, filterable=False, sortable=False, facetable=False,\n",
    "            vector_search_dimensions=1536, vector_search_profile_name=\"my-vector-config\"),\n",
    "    ],\n",
    "    vector_search=VectorSearch(\n",
    "        profiles=[VectorSearchProfile(\n",
    "            name=\"my-vector-config\",\n",
    "            algorithm_configuration_name=\"my-hnsw\")\n",
    "        ],\n",
    "        algorithms=[\n",
    "            HnswAlgorithmConfiguration(name=\"my-hnsw\")\n",
    "        ]\n",
    "    )\n",
    ")\n",
    "\n",
    "index_client.create_or_update_index(index)"
   ]
  },
  {
   "cell_type": "code",
   "execution_count": 12,
   "metadata": {},
   "outputs": [
    {
     "name": "stdout",
     "output_type": "stream",
     "text": [
      "Uploading\n",
      "Indexed 101 sections, 101 succeeded\n"
     ]
    }
   ],
   "source": [
    "results = search_client.upload_documents(documents=sections)\n",
    "print(\"Uploading\")\n",
    "succeeded = sum([1 for r in results if r.succeeded])\n",
    "print(f\"Indexed {len(results)} sections, {succeeded} succeeded\")\n",
    "batch = []"
   ]
  },
  {
   "cell_type": "code",
   "execution_count": 13,
   "metadata": {},
   "outputs": [
    {
     "name": "stdout",
     "output_type": "stream",
     "text": [
      "#########################################\n",
      "Source: 3-6-4\n",
      "CaptionIts Rector, Francis May, was acting as Governor when the bill of incorpora- tion was read in Legislative Council. Ho Kai moved the readings during one week, and announced that he would shortly be in a position to get the buildings started. His motion was seconded by Wei Yuk, who later himself became associated with the University project. The opportunity was taken to remove the words 'for the Chinese' from the title the College had borne from its inauguration, since several of the students were not Chinese. May advanced his opinion that there was perhaps no more useful institution in the Colony than the Hong Kong College of Medicine. The incorporation became effective on the 23rd May 1907.\n",
      "#########################################\n",
      "Source: 1-1-17\n",
      "CaptionSome graduates are overseas. The number is comparatively small, and they have achieved in proportion the same distinction and engaged themselves in enriching the community life in other countries in much the same way as they have in Hong Kong. There are mathematicians who studied under Professor Wong Yung-chow at the University now occupying full professorships at Yale and Princeton and several other universities in North America. Of the first group of architecture graduates in 1955 studying with the late Professor Cordon Brown, one has become Canada's most distinguished architect. One of the early arts graduates was Chief minister of Kedah State, one headed the inland revenue department in Malaysia, and another became deputy speaker in the Singapore Assembly. A graduate who died not long ago was a highly respected full professor of the history of science and civilization in the National Tsinghua University at Peking. A graduate of 1942 is now head of the history department in Chungshan University, a specialist in Tibetan history. Others are working with the United Nations in New York as interpreters; many teach Chinese in universities in America and Australia; the language of the Esquimaux preoccupies one who holds a senior fellowship at the Sorbonne in Paris; another has occupied a Chair of Chinese at the University of London School of Oriental and African Studies and joined the Chinese University of Hong Kong as head of its department in 1978.\n",
      "#########################################\n",
      "Source: 1-1-8\n",
      "CaptionThere are more of the graduates than can readily be enumerated who hold honorary offices of one sort or another. Four, for example, were in recent times presidents of the Law Society, the Institute of Architects, and both the British and the Chinese Medical Associations. One, a graduate then on the staff, was honorary adviser to the City Hall museum-as others are now-and also conducted the Philharmonic Orchestra; several of the teachers act in editorial and advisory capacities for local as well as international professional journals; others have attained eminence in the Masonic Orders or are active members of church councils. Many are the members of staff who are governors of schools; some deliver addresses at school speechdays and to lunch clubs, appear on TV forums, and hold public seminars. The clinical professors are honorary consultants to the Government and some of them to the Armed Forces in Hong Kong. Since the University Press was established in 1954, over 60 of its published books have been concerned specifically with Hong Kong matters. The University-its graduates and teachers-invests every fibre of the fabric of Hong Kong society and Hong Kong institutions.\n",
      "#########################################\n",
      "Source: 3-8-1\n",
      "CaptionInJanuary Igog Lugard prepared for use as an appeal document a memo- randum in which he set out the considerations which had developed in discussion of the project and the sort of University he expected it to be, and had it translated also into Chinese. In it he said he would appoint a Committee of Management to stay in session until a University was in being. This Committee comprised twelve members with himself in the chair, being the Anglican Bishop and the five senior Government administrative officers ex officio, among whom were May, still Rector of the College, Sir Paul Chater, Mody, Ho Kai, Wei Yuk, Lau Chu-pak, {Mr Lau was prominent among Hong Kong citizens taking a personal interest in the founding of the University, and was a founder-member of its Court and Council. His descendents have directed the Hong Kong and Yaumati Ferry Company founded by his son Tak-po}  and Cecil Clementi. Ho Kai and Wei Yuk together listed about a hundred members for a fund-raising sub-committee, and they were called together to hear an account of the scheme delivered by Lugard. Over the following months Lugard agreed to additions to the membership. With Ho Kai in the chair and Ts'o Seen-wan as principal secretary the sub-committee held weekly Sunday meetings in the Tung Wah Hospital, and formed groups among friends in Chinese cities and Chinese communities overseas, most prominent among the discussants being Ho Fook, who took an intense interest in the project. Lugard himself undertook to enlist the aid variously of Sir John Jordan, the ambassador in Peking, in seeking a contribution from the Imperial Government, the Shanghai Municipal Council whose Chairman was then David Landale, the Viceroy of the Two K wang Provinces in Canton, the Viceroy of India, a large number of Governors and other officials in Britain and South Asia and elsewhere, and the British firms.\n",
      "#########################################\n",
      "Source: 2-8-9\n",
      "CaptionIn one of a series of articles on Hong Kong's education in the Federal Magazine E. A. Irving { In 1911 he was the University's first Registrar and, in 1921, father of the first woman student admitted to it.}, then Director of Education and on leave in England, drew attention to the numbers of school children in Canton and the surrounding areas who sought their secondary education in the Anglo-Chinese schools of Hong Kong, and offered the conclusion that for Mainland students the schools in Hong Kong were more popular than those in Canton. The reason he gave was that the sound knowledge of English imparted in the Hong Kong schools opened up the world to their pupils. Donald used these articles as a pretext for reviving his crusade. { China Mail, 3rd October 1907}\n",
      "#########################################\n",
      "Source: 1-1-1\n",
      "CaptionThe University of Hong Kong is now one of Hong Kong's largest single community enterprises. Each year it passes into the working life of Hong Kong and elsewhere 1,200 young graduates in a wide range of academic and professional fields. Its student enrolment is over 5,500, including some 100 candidates for doctor's degrees, and it accommodates almost I,000 of them in its halls of residence. It employs over 500 teachers of high repute, and they and their students and services occupy over 40 buildings of sizes in a range from two to 150 thousand square feet of usable area, in 70 acres of scarce land; and over 350 thousand square feet of floor space have been added in the last two years. It has a bookstock of more than half a million, including one of the largest collections there is, of perennial, ephemeral and manuscript material on Hong Kong. Its invested endowments are worth $260 millions on the market; it is spending $120 millions a year on its regular activities, four-fifths from Government subsidy.\n",
      "#########################################\n",
      "Source: 1-1-6\n",
      "CaptionMany other graduates hold responsible jobs of a generally public nature in the government administrative and professional services, in colleges, schools, and hospitals. There are some 150 officers in the Government administrative service, more than half of them local: of these four in five are the University's graduates. One of the engineers was general manager of the Canton-Kowloon Railway; by 1974 three had reached eminence in government service-one as Secretary of Home Affairs, one as Director of Medical and Health Services, and one as Director of Housing, two of them having taught on the staff. Another is Deputy Secretary of Finance. Half of the Directors of Medical Services since the re- occupation of Hong Kong in 1945 have been the University's medical graduates; it was an arts graduate who was the first of the local officers in the Government administrative service, and who became Commissioner of Labour by the time he retired.\n"
     ]
    }
   ],
   "source": [
    "query = \"Who is Francis May? What did he/she do related to HKU?\" #your query keywords\n",
    "query_vector = get_embedding(query)\n",
    "\n",
    "r = search_client.search(\n",
    "    search_text=None,\n",
    "    top=7,\n",
    "    vector_queries=[VectorizedQuery(\n",
    "        vector=query_vector,\n",
    "        fields=\"Embedding\"\n",
    "    )]\n",
    ")\n",
    "\n",
    "search_results = []\n",
    "for result in r:\n",
    "    print(\"#########################################\")\n",
    "    print(\"Source: \" + result[\"id\"])\n",
    "    print(\"Caption\" + result[\"Content\"])\n",
    "    search_results.append(\"Source: \" + result[\"id\"] + \"; Content: \" + result[\"Content\"])"
   ]
  },
  {
   "cell_type": "code",
   "execution_count": 14,
   "metadata": {},
   "outputs": [
    {
     "name": "stdout",
     "output_type": "stream",
     "text": [
      "Francis May was the Rector of the Hong Kong College of Medicine. He played a significant role in the incorporation of the college, acting as Governor when the bill of incorporation was read in the Legislative Council. He also expressed his opinion that the Hong Kong College of Medicine was perhaps the most useful institution in the Colony. The incorporation became effective on the 23rd May 1907 [3-6-4].\n",
      "\n",
      "Additionally, Francis May was involved in the discussions and planning of the University project. He was a part of the Committee of Management that was appointed to stay in session until a University was in being. This committee comprised twelve members, including May [3-8-1].\n"
     ]
    }
   ],
   "source": [
    "systemMessage = \"\"\"AI Assistant that helps user to answer questions from sources provided. Be specific in your answers, with supporting evidence from only the sources below.\n",
    "                    Answer ONLY with the facts listed in the list of sources below. \n",
    "                    If there isn't enough information below, say you don't know. Do not generate answers that don't use the sources below. \n",
    "                    Each source has a name followed by colon and the actual information, always include the source name for each fact you use in the response. \n",
    "                    Use square brackets to reference the source, e.g. [info1.txt]. Don't combine sources, list each source separately, e.g. [info1.txt][info2.pdf].\n",
    "                \"\"\"\n",
    "\n",
    "messages = [\n",
    "    {'role' : 'system', 'content' : systemMessage},\n",
    "    {'role' : 'user', 'content' : query + \"   Source:\" + \" \".join(search_results)}\n",
    "]\n",
    "\n",
    "chat_completion = openai.chat.completions.create(\n",
    "    model=\"summer\", # Do not edit this. model=\"deployment_name\"\n",
    "    messages=messages, \n",
    "    temperature=0.7, \n",
    "    max_tokens=1024, \n",
    "    n=1)\n",
    "\n",
    "chat_content = chat_completion.choices[0].message.content\n",
    "print(chat_content)"
   ]
  },
  {
   "cell_type": "markdown",
   "metadata": {},
   "source": [
    "- Why is HKU established?\n",
    "- The University of Hong Kong (HKU) was established in direct response to the explicit needs of China for modern technology and a clear understanding of the Western temperament. Its original aim was to supply China with these resources, although its role has since evolved to supplying versatile citizens, civil servants, and professionals with a high level of cultural and social awareness to Hong Kong [2-1-1]. Lord William's and Sir Robert Hart's opinions also played a part in the founding of HKU. Despite Lord William's skepticism about a university in Hong Kong satisfying the national aspirations of the Chinese due to the language of instruction, Sir Robert Hart viewed the Hong Kong scheme as more 'practically promising' [3-11-4]."
   ]
  },
  {
   "cell_type": "markdown",
   "metadata": {},
   "source": [
    "### How is Taiping Rebellion related to HKU's establishment?\n",
    "\n",
    "The Taiping Rebellion is related to the establishment of the University of Hong Kong (HKU) in several ways. First, the suppression of the Taiping Rebellion in 1864 marked the beginning of China's intellectual renascence, marking the start of a dawning awareness that China must learn how to measure up to the West if she was to defend herself against aggression and the partition of her vast potential among foreign powers [2-1-3]. This led to a scramble for foreign powers to establish educational footholds in China [2-1-2]. \n",
    "\n",
    "Second, the Taiping Rebellion and its aftermath resulted in an influx of reformists into Hong Kong, many of whom had close connections with the Christian missions [2-6-3]. Notable among them was K'ang Yu-wei, who, after the collapse of his reform movement in China, fled to Hong Kong and began a long exile. It was during this period that the Dowager Empress initiated the foundation of the first modern Chinese university and secondary schools in some provincial capitals, which were to be developed into a system of National Universities on the Imperial University model [2-6-3].\n",
    "\n",
    "Furthermore, the Taiping Rebellion led to increased interaction between China and foreign powers, which resulted in increased foreign influence in China, including Hong Kong. This foreign influence played a key role in the establishment of HKU. For instance, Sir Frederick Lugard and others founded HKU in 1911 to help in a Chinese renascence as part of a more general competition among foreign powers interested in securing strong educational footholds in China [2-1-2].\n",
    "\n",
    "Finally, the fund-raising activities for the establishment of HKU were also influenced by the events following the Taiping Rebellion. Among the fund-raising activities was a performance dedicated to Prince Hsiun, who was on a tour of inspection of China's naval installations as part of the imperial modernization programme initiated in the wake of the Taiping Rebellion [3-12-5]. Prince Hsiun expressed his support for the University project, emphasizing the role of education in promoting trade, friendly feelings, and providing the poorer classes of China's population with a useful modern education [3-12-5]\n"
   ]
  },
  {
   "cell_type": "markdown",
   "metadata": {},
   "source": [
    "The Taiping Rebellion is related to the establishment of the University of Hong Kong (HKU) in that the suppression of the rebellion marked the beginning of China's intellectual renascence and increased Western influence in China [2-1-3]. Following the suppression of the rebellion, Britain and France were granted travel concessions, extraterritorial rights, and permission to make Christian converts among the Chinese [2-1-3]. This led to a scramble for footholds in the Chinese system by foreign powers, including the establishment of educational institutions [2-1-2][2-1-3]. \n",
    "\n",
    "Furthermore, in the wake of the Rebellion, there was a realization that China needed to modernize and come to terms with the West [2-1-3]. One of the ways this was done was through the founding of the first modern Chinese university - the Imperial University [2-6-3]. The establishment of HKU was part of this wider movement to modernize China's education system and to equip the Chinese populace with modern education [2-1-2][3-12-5]. \n",
    "\n",
    "In addition, several prominent reformers who were involved in the establishment of HKU had links to the aftermath of the Taiping Rebellion. For instance, K'ang Yu-wei, a Cantonese reformer, fled to Hong Kong after the collapse of his Reform Club [2-6-3]. Sun Yat-sen, who was among the first group enrolled in the College of Medicine in Hong Kong, was in contact with young radical reformers who belonged to the Sanhohui, a large anti-Manchu triad in Canton [2-8-3]. This connection shows that the intellectual and political climate following the rebellion played a role in the establishment of HKU"
   ]
  },
  {
   "cell_type": "markdown",
   "metadata": {},
   "source": [
    "### Who is Francis May?\n",
    "Francis May was the Rector of the Hong Kong College of Medicine. He played a significant role in the incorporation of the college, acting as Governor when the bill of incorporation was read in the Legislative Council. He also expressed his opinion that the Hong Kong College of Medicine was perhaps the most useful institution in the Colony. The incorporation became effective on the 23rd May 1907 [3-6-4].\n",
    "\n",
    "Additionally, Francis May was involved in the discussions and planning of the University project. He was a part of the Committee of Management that was appointed to stay in session until a University was in being. This committee comprised twelve members, including May [3-8-1]."
   ]
  }
 ],
 "metadata": {
  "kernelspec": {
   "display_name": "histdemo",
   "language": "python",
   "name": "python3"
  },
  "language_info": {
   "codemirror_mode": {
    "name": "ipython",
    "version": 3
   },
   "file_extension": ".py",
   "mimetype": "text/x-python",
   "name": "python",
   "nbconvert_exporter": "python",
   "pygments_lexer": "ipython3",
   "version": "3.12.4"
  }
 },
 "nbformat": 4,
 "nbformat_minor": 2
}
