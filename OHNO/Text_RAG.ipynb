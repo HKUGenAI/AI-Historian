{
 "cells": [
  {
   "cell_type": "code",
   "execution_count": 25,
   "metadata": {},
   "outputs": [],
   "source": [
    "import os\n",
    "import base64\n",
    "import re\n",
    "import csv\n",
    "from dotenv import load_dotenv, find_dotenv\n",
    "from azure.core.credentials import AzureKeyCredential\n",
    "from azure.search.documents import SearchClient\n",
    "from azure.search.documents.indexes import SearchIndexClient\n",
    "from azure.search.documents.indexes.models import *\n",
    "from azure.search.documents.models import VectorizedQuery\n",
    "import openai\n",
    "from openai import AzureOpenAI"
   ]
  },
  {
   "cell_type": "code",
   "execution_count": 26,
   "metadata": {},
   "outputs": [],
   "source": [
    "load_dotenv()\n",
    "\n",
    "# Get Environment settings from .env file\n",
    "load_dotenv()\n",
    "\n",
    "# Azure AI Search Index Settings\n",
    "service_endpoint = f\"{os.getenv('AZURE_SEARCH_SERVICE_ENDPOINT')}\"\n",
    "index_creds = AzureKeyCredential(os.getenv(\"AZURE_SEARCH_INDEX_KEY\"))\n",
    "index_name = os.getenv(\"AZURE_SEARCH_INDEX_NAME_TEXT\")\n",
    "\n",
    "## Create a client for querying the index\n",
    "search_client = SearchClient(endpoint=service_endpoint, index_name=index_name, credential=index_creds)\n",
    "image_search_client = SearchClient(endpoint=service_endpoint, index_name=\"images-search-without-keywords\", credential=index_creds)\n",
    "## Create an index\n",
    "index_client = SearchIndexClient(service_endpoint, index_creds)\n",
    "\n",
    "# Azure Openai Settings\n",
    "openai.api_type = \"azure\"\n",
    "openai.api_key = os.getenv(\"OPENAI_API_KEY\")\n",
    "openai.azure_endpoint = os.getenv(\"OPENAI_API_ENDPOINT\")\n",
    "openai.api_version = os.getenv(\"OPENAI_API_VERSION\")\n",
    "\n",
    "azure_openai_client = AzureOpenAI(\n",
    "    api_key = os.getenv(\"OPENAI_API_KEY\"),\n",
    "    api_version = os.getenv(\"OPENAI_API_VERSION\"),\n",
    "    azure_endpoint = os.getenv(\"OPENAI_API_ENDPOINT\")\n",
    ")"
   ]
  },
  {
   "cell_type": "code",
   "execution_count": 27,
   "metadata": {},
   "outputs": [],
   "source": [
    "def get_embedding(text, model=\"textembedding\"): # model=[Deployment Name], DONOT change this\n",
    "   text = text.replace(\"\\n\", \" \")\n",
    "   return azure_openai_client.embeddings.create(input = [text], model=model).data[0].embedding"
   ]
  },
  {
   "cell_type": "code",
   "execution_count": 28,
   "metadata": {},
   "outputs": [
    {
     "name": "stdout",
     "output_type": "stream",
     "text": [
      "Finished Indexing: 111 items in total\n"
     ]
    }
   ],
   "source": [
    "sections = []\n",
    "with open('ch4to6.csv', 'rt', newline='', encoding='utf-8', errors='ignore') as csvfile:\n",
    "    csvreader = csv.reader(csvfile)\n",
    "    for item in csvreader:\n",
    "        section = {\n",
    "            \"id\": f\"{item[0]}-{item[1]}-{item[2]}\",\n",
    "            \"Chapter\": item[0],\n",
    "            \"Section\": item[1],\n",
    "            \"Paragraph\": item[2],\n",
    "            \"Content\": item[3],\n",
    "            \"Embedding\": get_embedding(item[3]),\n",
    "        }\n",
    "        sections.append(section)\n",
    "print(f\"Finished Indexing: {len(sections)} items in total\")\n"
   ]
  },
  {
   "cell_type": "code",
   "execution_count": null,
   "metadata": {},
   "outputs": [],
   "source": [
    "index = SearchIndex(\n",
    "    name=index_name,\n",
    "    fields=[\n",
    "        SimpleField(name=\"id\", type=\"Edm.String\", key=True),\n",
    "        SearchableField(name=\"Chapter\", type=\"Edm.String\", analyzer_name=\"standard.lucene\", \n",
    "                        filterable=True, sortable=True, facetable=True, searchable=True),\n",
    "        SearchableField(name=\"Section\", type=\"Edm.String\", analyzer_name=\"standard.lucene\",\n",
    "                        filterable=True, sortable=True, facetable=True, searchable=True),\n",
    "        SearchableField(name=\"Paragraph\", type=\"Edm.String\", analyzer_name=\"standard.lucene\",\n",
    "                        filterable=True, sortable=True, facetable=True, searchable=True),        \n",
    "        SearchableField(name=\"Content\", type=\"Edm.String\", analyzer_name=\"standard.lucene\",\n",
    "                        filterable=True, sortable=True, facetable=True, searchable=True),\n",
    "        SearchField(name=\"Embedding\", type=SearchFieldDataType.Collection(SearchFieldDataType.Single),  \n",
    "            hidden=False, searchable=True, filterable=False, sortable=False, facetable=False,\n",
    "            vector_search_dimensions=1536, vector_search_profile_name=\"my-vector-config\"),\n",
    "    ],\n",
    "    vector_search=VectorSearch(\n",
    "        profiles=[VectorSearchProfile(\n",
    "            name=\"my-vector-config\",\n",
    "            algorithm_configuration_name=\"my-hnsw\")\n",
    "        ],\n",
    "        algorithms=[\n",
    "            HnswAlgorithmConfiguration(name=\"my-hnsw\")\n",
    "        ]\n",
    "    )\n",
    ")\n",
    "\n",
    "index_client.create_or_update_index(index)"
   ]
  },
  {
   "cell_type": "code",
   "execution_count": null,
   "metadata": {},
   "outputs": [],
   "source": [
    "results = search_client.upload_documents(documents=sections)\n",
    "print(\"Uploading\")\n",
    "succeeded = sum([1 for r in results if r.succeeded])\n",
    "print(f\"Indexed {len(results)} sections, {succeeded} succeeded\")"
   ]
  },
  {
   "cell_type": "code",
   "execution_count": 29,
   "metadata": {},
   "outputs": [
    {
     "name": "stdout",
     "output_type": "stream",
     "text": [
      "#########################################\n",
      "Source: 2-8-3\n",
      "Content: Before establishing himself in Hong Kong for his further studies Sun Yat-sen had made contact with many young radical reformers who belonged to the Sanhohui, a large anti-Manchu triad in Canton, and brought to Hong Kong with him his first half-formed thoughts of Chinese reform. Chan Siu-pak, of whom we shall hear more, the son of an enlightened father who was also a Christian convert, was the first student to be enrolled in the Canton Christian College as a youth of eighteen when it was first founded in March 1888. He had heard with interest of Sun's developing ideas on reform, and paying him a visit at the College of Medicine in Hong Kong became so impressed that he dropped out of the Christian College and enrolled in the College of Medicine in order to be in daily contact with Sun, leaving with Sun but without completing the course when Sun graduated in 1892. In the College of Medicine Chan joined Sun and two other reformers, Yau Lit and Yeung Hok-ling, under the name of the 'Four Great Outlaws'. With Sun among the first group enrolled in the College of Medicine in 1887, but graduating a year after him, was Kwan King-Ieung-we shall hear more of him too, in the course of the story of the founding of the University. Visiting Hong Kong in 1923 and invited to address the students, Sun recalled his student days at the College, when after his lectures and after reading his books he strolled along Hong Kong's streets and contrasted the orderliness of everything he saw with conditions in Heungshan, where he spent his vacations in the family home, and where there was lawlessness and disorder. He concluded that the differences arose in deficiencies of government-'Why not change it? Why could we not imitate the same thing and change the government?' he asked himself.\n",
      "#########################################\n",
      "Source: 2-6-4\n",
      "Content: In the South Dr Sun Yat-sen, another Cantonese and son and husband of Christians, had tried out his wings in an attempted armed occupation of Canton in 1895, only three years after graduating from the University of Hong Kong's own forerunner, the Hong Kong College of Medicine for the Chinese, a hotbed of young revolutionaries. Sun's attempt failed and he took flight as an outlaw to Hong Kong, whence he fled to England. {Its history has been traced in some detail in papers by Lindsay Ride, and in the essay he contributed to B. Harrison, ed., The First 50 Years, pp. 6-22.} It was while he was in London that occurred the well-known kidnapping, and his release from the custody of the Chinese Embassy in response to the loud public indignation aroused by Drs Cantlie and Manson, his former medical teachers in Hong Kong. From England he went to Japan to seek support there for the cause of Chinese reform and republicanism.\n",
      "#########################################\n",
      "Source: 3-5-1\n",
      "Content: The first enrolment a few days later was large enough: twelve of the students enrolling, who included the revolutionary nucleus of the 'Four Great Outlaws', sat the first examination in 1888. From then many fell by the wayside, so that when the first five years was completed only two were left to graduate, one of them Sun Yat-sen, who had divided his time between his medical studies, discussing with his fellow students the republican philosophy that was to enshrine his ideas of reform in China, and inspiring a small band of young men in Hong Kong who would create one of his oversea bases of revolutionary support. Manson had sailed from Hong Kong in 1889 to achieve fame in London as 'the father of tropical medicine' and was succeeded in Hong Kong as second Dean by Candie. Francis Clark, trained not in Aberdeen but Durham and Cambridge, succeeded Candie as second Secretary and then in 1897 as third Dean, remaining in that office until the College's commitments had been wholly discharged, thus also becoming the first Dean of the University's Faculty of Medicine and holding the two deanships concurrently from 1912 to 1915. Among Manson's last tasks before leaving was to arrange for a more formal connection with officialdom in China, in causing the election of one of his patients, Li Hung-chang, to be the College's first Patron, then in Tientsin as Viceroy ofChihli. Viceroy Li, who remained Patron until his death in 1901, had been 'Chinese' Gordon's collaborator in the suppression of the Taipings, was close to the Throne and a friend of Britain, and had those qualities which caused Candie to refer to him as 'the Bismarck of China'. When Dr Sun Yat-sen abandoned his declining medical practice in 1894 to devote his whole energy to the cause of reform, it was to Viceroy Li he first turned, to his College Patron, to China's most influential exponent of westernization, journeying to Tientsin to deliver personally to him a letter in which he detailed his proposals for the country's reform.\n",
      "#########################################\n",
      "Source: 2-8-5\n",
      "Content: There was scarcely a student returning from Japan who was not sympathetic to the revolutionary aims of the T'ung-meng-hui. This was true of students studying elsewhere overseas; and this was one of the two reasons for the almost continuous absence from China of the revolutionary leader Sun Yat-sen, who was engaging himself in preparing them for their return as the new leaders educated in the modern world, at the same time soliciting funds for the promo- tion of his cause. While the revolutionary party was being re-formed in Tokyo by Sun himself, its young adherents who had returned to China were being recruited as officers into armed forces, as part of the reorganization and strengthening ordered by the Emperor in the edicts issued in Peking. Many others were taking up teaching positions in the upper levels of the expanding educational system. A memorandum to the Governor of Hong Kong in September Ig08 from the Consul-General at Canton said that in Canton's Provincial College, which was a tertiary institution, all subjects but foreign languages were taught by Chinese professors, 'the majority of whom received their training in Japan'. Decapitation awaited those in China who were discovered to be members of the new party. As Dr Li Shu-fan wryly put it, 'it was of paramount importance to the con- spiracy that the society's agents gain positions in the regime, although this was like \"playing in the tiger's mouth\" '. Dr Sun frequently travelled under an assumed name and in disguise to escape detection. In his autobiography Dr Li recalled that in 1g07, when he was in his fourth year at the College of Medicine, he was summoned with C. C. Li to report to Dr Sun who was a passenger in a French ship anchored in Hong Kong harbour, passing through after the abortive attempt at rebellion in Kwangsi. They had some difficulty in tracing him because he had an assumed name they had not been given, but finally tracked him down in a cabin, where he sat disguised as a Japanese in a kimono with a blue flower pattern.\n",
      "#########################################\n",
      "Source: 3-8-3\n",
      "Content: The Viceroy of Canton undertook to raise $200,000: but first expressed some misgivings on the propriety ofinc1uding in Lugard's fund-raising committee the names of certain men 'who had the reputation of being active participants in the revolutionary propaganda led by Dr Sun Yat-sen'. The men were Chan Siu-pak and Dr Kwan Sum-yin, alias Kwan King-Ieung. Of both we have heard before in this narrative in connection with the 'Four Great Outlaws' of Dr Sun's College days. Chan was one of the additional secretaries assisting Ts'o Seen-wan in the fund-raising group. Colonial Secretary May knew him well. In a minute to Lugard in the Government House files, he described him as 'an editor of a Chinese newspaper that has at times been troublesome owing to its attacks on the Provincial Government and Chinese officials generally. The man dresses in European style and is undoubtedly of the \"Reform\" Party. But he is not a revolutionary and not dangerous. He has not made himself conspicuous of late. There is a law to restrain him. Ifhe were really dangerous like Dr Sun he would have been banished long ago'. He had been one of the committee which had received the Duke of Connaught; and was often used as a translator of public documents, especially in the medical field. Asked his view, Ho Kai confessed that 'H.E.'s memo was also translated by him, as were the subscription regulations and the 2 minutes of the General Committee. He has drafted many of our letters'. Ho Kai had also been friendly with Dr Kwan for twenty years but had had no suspicion of any revolutionary tendencies. E.A. Irving, then Registrar- General, commented: 'There were one or two names on the list which might be objected to by the Viceroy on the same grounds: but as regards these, perhaps it will be better to let sleeping dogs lie'-one of the sleeping dogs being Li Yuk-tong, proprietor of the Kum Lee drugstore in Bonham Strand East, which had for some time been a local headquarters of the T'ung-meng-hui and an assembly point for local sympathizers with the revolutionaries. It was he who collected the funds sent by oversea Chinese to assist Dr Sun's efforts to overthrow the Manchu Dynasty. He was also, perhaps for his known international experience in such matters, one of the thirty members specially appointed to Ho Kai's collecting committee for the University's endowment, and later became the first finance minister under the new republic established by Dr Sun. His drugstore contributed to the endowment fund. Lugard sent for Chan Siu-pak, who 'personally assured me that for the last three years or more he has not propagated any views regarding the Government of China through the public press or by any other means, and has entirely devoted his time to farming and to assisting the Government and others in translating work'.\n",
      "#########################################\n",
      "Source: 1-1-17\n",
      "Content: Some graduates are overseas. The number is comparatively small, and they have achieved in proportion the same distinction and engaged themselves in enriching the community life in other countries in much the same way as they have in Hong Kong. There are mathematicians who studied under Professor Wong Yung-chow at the University now occupying full professorships at Yale and Princeton and several other universities in North America. Of the first group of architecture graduates in 1955 studying with the late Professor Cordon Brown, one has become Canada's most distinguished architect. One of the early arts graduates was Chief minister of Kedah State, one headed the inland revenue department in Malaysia, and another became deputy speaker in the Singapore Assembly. A graduate who died not long ago was a highly respected full professor of the history of science and civilization in the National Tsinghua University at Peking. A graduate of 1942 is now head of the history department in Chungshan University, a specialist in Tibetan history. Others are working with the United Nations in New York as interpreters; many teach Chinese in universities in America and Australia; the language of the Esquimaux preoccupies one who holds a senior fellowship at the Sorbonne in Paris; another has occupied a Chair of Chinese at the University of London School of Oriental and African Studies and joined the Chinese University of Hong Kong as head of its department in 1978.\n",
      "#########################################\n",
      "Source: 2-8-2\n",
      "Content: At a meeting held in Tokyo on the 13th August 1905 to welcome Dr Sun, a new united republican party was born, in which a number of reform creeds were accommodated, under the name T'ung-meng-hui, the Sworn Brotherhood. The party later came to be called the Kuo-min-tang, to which its present-day descent in Taiwan still adheres. Among those in Hong Kong who immediately joined the new party was Li Shu-fan, then still a second-year student of the College of Medicine. He took the oath of allegiance not far from the Alice Memorial Hospital where he was studying, administered in an attic office above the China Daily News before Chan Siu-pak, who had just been elected president of the Hong Kong branch of the united party.\n"
     ]
    }
   ],
   "source": [
    "query = \"Who is Sun Yat-sen? How is he related to HKU?\" #your query keywords\n",
    "query_vector = get_embedding(query)\n",
    "\n",
    "r = search_client.search(\n",
    "    search_text=None,\n",
    "    top=7,\n",
    "    vector_queries=[VectorizedQuery(\n",
    "        vector=query_vector,\n",
    "        fields=\"Embedding\"\n",
    "    )]\n",
    ")\n",
    "\n",
    "sections = []\n",
    "search_results = []\n",
    "for result in r:\n",
    "    print(\"#########################################\")\n",
    "    print(\"Source: \" + result[\"id\"])\n",
    "    print(\"Content: \" + result[\"Content\"])\n",
    "    section_id = result[\"id\"][:-2]\n",
    "    if section_id not in sections:\n",
    "        sections.append(section_id)"
   ]
  },
  {
   "cell_type": "code",
   "execution_count": 30,
   "metadata": {},
   "outputs": [
    {
     "name": "stdout",
     "output_type": "stream",
     "text": [
      "2-8-1\n",
      "2-8-2\n",
      "2-8-3\n",
      "2-8-4\n",
      "2-8-5\n",
      "2-8-6\n",
      "2-8-7\n",
      "2-8-8\n",
      "2-8-9\n",
      "2-8-10\n",
      "2-6-1\n",
      "2-6-2\n",
      "2-6-3\n",
      "2-6-4\n",
      "3-5-1\n",
      "3-8-1\n",
      "3-8-2\n",
      "3-8-3\n",
      "3-8-4\n"
     ]
    }
   ],
   "source": [
    "# Getting the total number of documents in the index\n",
    "# search_client.get_document_count()\n",
    "\n",
    "# Get Neighboring Documents (Get the Whole Section)\n",
    "for _section_ in sections:\n",
    "    i = 1\n",
    "    while(True):\n",
    "        try:\n",
    "            doc = search_client.get_document(key=f\"{_section_}-{i}\")\n",
    "            print(doc[\"id\"])\n",
    "            search_results.append(\"Source: \" + doc[\"id\"] + \"; Content: \" + doc[\"Content\"])\n",
    "            i += 1\n",
    "        except:\n",
    "            break"
   ]
  },
  {
   "cell_type": "code",
   "execution_count": null,
   "metadata": {},
   "outputs": [],
   "source": [
    "systemMessage = \"\"\"AI Assistant that helps user to answer questions from sources provided. Be specific in your answers.\n",
    "                    Answer ONLY with the facts listed in the list of sources below.\n",
    "                    After anwering the user quesitons, start a new line and give 3 keywords (names, places, etc.) of your response. Do NOT give keywords \"HKU\", \"The University of Hong Kong\", \"Hong Kong\".\n",
    "                    If there isn't enough information below, say you don't know. Do not generate answers that don't use the sources below. \n",
    "                    Each source has a name followed by colon and the actual information, always include the source name for each fact you use in the response. \n",
    "                    Use square brackets to reference the source, e.g. [info1.txt]. Don't combine sources, list each source separately, e.g. [info1.txt][info2.pdf].\n",
    "                \"\"\"\n",
    "\n",
    "messages = [\n",
    "    {'role' : 'system', 'content' : systemMessage},\n",
    "    {'role' : 'user', 'content' : query + \"   Source:\" + \" \".join(search_results)}\n",
    "]"
   ]
  },
  {
   "cell_type": "code",
   "execution_count": null,
   "metadata": {},
   "outputs": [],
   "source": [
    "chat_completion = openai.chat.completions.create(\n",
    "    model=\"summer\", # Do not edit this. model=\"deployment_name\"\n",
    "    messages=messages, \n",
    "    temperature=0.7, \n",
    "    max_tokens=1024, \n",
    "    n=1)\n",
    "\n",
    "chat_content = chat_completion.choices[0].message.content\n",
    "keywords = chat_content.split(\"\\n\")[-1].replace(\"Keywords: \", \"\").split(\", \")\n",
    "print(chat_content)\n",
    "print(keywords)"
   ]
  },
  {
   "cell_type": "code",
   "execution_count": null,
   "metadata": {},
   "outputs": [],
   "source": [
    "image_search_query = keywords[0]\n",
    "image_search_results = []\n",
    "\n",
    "for image_search_query in keywords:\n",
    "    '''Full text search'''\n",
    "    image_r = image_search_client.search(\n",
    "        search_text=image_search_query,\n",
    "        minimum_coverage=100,\n",
    "        top=3\n",
    "    )\n",
    "\n",
    "    print('##############################################')\n",
    "    image_search_keyword_result = []\n",
    "    print(\"Query: \" + image_search_query)\n",
    "    print()\n",
    "    for result in image_r:\n",
    "        print(\"Source: \" + result[\"Image_name\"])\n",
    "        print(\"Caption\" + result[\"Caption\"])\n",
    "        image_search_keyword_result.append(result[\"Image_name\"])\n",
    "        print(\"//////////////////////////////////////////////\")\n",
    "    image_search_results.append(image_search_keyword_result)"
   ]
  },
  {
   "cell_type": "code",
   "execution_count": null,
   "metadata": {},
   "outputs": [],
   "source": [
    "print(image_search_results)"
   ]
  },
  {
   "cell_type": "code",
   "execution_count": null,
   "metadata": {},
   "outputs": [],
   "source": [
    "# Find the most common image in image_saeach_results\n",
    "import itertools\n",
    "images = list(filter(None, image_search_results))\n",
    "max(images, key=images.count)"
   ]
  }
 ],
 "metadata": {
  "kernelspec": {
   "display_name": "histdemo",
   "language": "python",
   "name": "python3"
  },
  "language_info": {
   "codemirror_mode": {
    "name": "ipython",
    "version": 3
   },
   "file_extension": ".py",
   "mimetype": "text/x-python",
   "name": "python",
   "nbconvert_exporter": "python",
   "pygments_lexer": "ipython3",
   "version": "3.12.4"
  }
 },
 "nbformat": 4,
 "nbformat_minor": 2
}
