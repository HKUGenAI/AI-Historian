{
 "cells": [
  {
   "cell_type": "code",
   "execution_count": 1,
   "metadata": {},
   "outputs": [],
   "source": [
    "import os\n",
    "import base64\n",
    "import re\n",
    "import csv\n",
    "from dotenv import load_dotenv\n",
    "from azure.core.credentials import AzureKeyCredential\n",
    "from azure.search.documents import SearchClient\n",
    "from azure.search.documents.indexes import SearchIndexClient\n",
    "from azure.search.documents.indexes.models import *\n",
    "from azure.search.documents.models import VectorizedQuery\n",
    "import openai\n",
    "from openai import AzureOpenAI"
   ]
  },
  {
   "cell_type": "code",
   "execution_count": 2,
   "metadata": {},
   "outputs": [],
   "source": [
    "load_dotenv()\n",
    "\n",
    "# Get Environment settings from .env file\n",
    "load_dotenv()\n",
    "\n",
    "# Azure AI Search Index Settings\n",
    "service_endpoint = f\"{os.getenv('AZURE_SEARCH_SERVICE_ENDPOINT')}\"\n",
    "index_creds = AzureKeyCredential(os.getenv(\"AZURE_SEARCH_INDEX_KEY\"))\n",
    "index_name = os.getenv(\"AZURE_SEARCH_INDEX_NAME\")\n",
    "\n",
    "## Create a client for querying the index\n",
    "search_client = SearchClient(endpoint=service_endpoint, index_name=index_name, credential=index_creds)\n",
    "## Create an index\n",
    "index_client = SearchIndexClient(service_endpoint, index_creds)\n",
    "\n",
    "# Azure Openai Settings\n",
    "openai.api_type = \"azure\"\n",
    "openai.api_key = os.getenv(\"OPENAI_API_KEY\")\n",
    "openai.azure_endpoint = os.getenv(\"OPENAI_API_ENDPOINT\")\n",
    "openai.api_version = os.getenv(\"OPENAI_API_VERSION\")\n",
    "\n",
    "azure_openai_client = AzureOpenAI(\n",
    "    api_key = os.getenv(\"OPENAI_API_KEY\"),\n",
    "    api_version = os.getenv(\"OPENAI_API_VERSION\"),\n",
    "    azure_endpoint = os.getenv(\"OPENAI_API_ENDPOINT\")\n",
    ")"
   ]
  },
  {
   "cell_type": "code",
   "execution_count": 3,
   "metadata": {},
   "outputs": [
    {
     "name": "stdout",
     "output_type": "stream",
     "text": [
      "Finished Indexing: 71 items in total\n"
     ]
    }
   ],
   "source": [
    "def get_embedding(text, model=\"textembedding\"): # model=[Deployment Name], DONOT change this\n",
    "   text = text.replace(\"\\n\", \" \")\n",
    "   return azure_openai_client.embeddings.create(input = [text], model=model).data[0].embedding\n",
    "\n",
    "sections = []\n",
    "with open('outputupdated.csv', 'rt', newline='', encoding='utf-8', errors='ignore') as csvfile:\n",
    "    csvreader = csv.reader(csvfile)\n",
    "    item_num = 0\n",
    "    for item in csvreader:\n",
    "        section = {\n",
    "            \"id\": f\"{item_num}\",\n",
    "            \"Image_name\": item[0],\n",
    "            \"Image_path\": item[1],\n",
    "            \"Response1\": item[2],\n",
    "            \"Response2\": item[3],\n",
    "            \"Caption\": item[4],\n",
    "            \"Embedding\": get_embedding(''.join(item[0:5]))\n",
    "        }\n",
    "        item_num += 1\n",
    "        sections.append(section)\n",
    "print(f\"Finished Indexing: {len(sections)} items in total\")\n"
   ]
  },
  {
   "cell_type": "code",
   "execution_count": 4,
   "metadata": {},
   "outputs": [
    {
     "data": {
      "text/plain": [
       "<azure.search.documents.indexes.models._index.SearchIndex at 0x2807361d190>"
      ]
     },
     "execution_count": 4,
     "metadata": {},
     "output_type": "execute_result"
    }
   ],
   "source": [
    "index = SearchIndex(\n",
    "    name=index_name,\n",
    "    fields=[\n",
    "        SimpleField(name=\"id\", type=\"Edm.String\", key=True),\n",
    "        SearchableField(name=\"Image_name\", type=\"Edm.String\", analyzer_name=\"standard.lucene\", \n",
    "                        filterable=True, sortable=True, facetable=True, searchable=True),\n",
    "        SearchableField(name=\"Image_path\", type=\"Edm.String\", analyzer_name=\"standard.lucene\",\n",
    "                        filterable=True, sortable=True, facetable=True, searchable=True),\n",
    "        SearchableField(name=\"Response1\", type=\"Edm.String\", analyzer_name=\"standard.lucene\",\n",
    "                        filterable=True, sortable=True, facetable=True, searchable=True),\n",
    "        SearchableField(name=\"Response2\", type=\"Edm.String\", analyzer_name=\"standard.lucene\",\n",
    "                        filterable=True, sortable=True, facetable=True, searchable=True),\n",
    "        SearchableField(name=\"Caption\", type=\"Edm.String\", analyzer_name=\"standard.lucene\",\n",
    "                        filterable=True, sortable=True, facetable=True, searchable=True),\n",
    "        SearchField(name=\"Embedding\", type=SearchFieldDataType.Collection(SearchFieldDataType.Single),  \n",
    "            hidden=False, searchable=True, filterable=False, sortable=False, facetable=False,\n",
    "            vector_search_dimensions=1536, vector_search_profile_name=\"my-vector-config\"),\n",
    "    ],\n",
    "    vector_search=VectorSearch(\n",
    "        profiles=[VectorSearchProfile(\n",
    "            name=\"my-vector-config\",\n",
    "            algorithm_configuration_name=\"my-hnsw\")\n",
    "        ],\n",
    "        algorithms=[\n",
    "            HnswAlgorithmConfiguration(name=\"my-hnsw\")\n",
    "        ]\n",
    "    )\n",
    ")\n",
    "\n",
    "index_client.create_or_update_index(index)"
   ]
  },
  {
   "cell_type": "code",
   "execution_count": 5,
   "metadata": {},
   "outputs": [
    {
     "name": "stdout",
     "output_type": "stream",
     "text": [
      "Uploading\n",
      "Indexed 71 sections, 71 succeeded\n"
     ]
    }
   ],
   "source": [
    "results = search_client.upload_documents(documents=sections)\n",
    "print(\"Uploading\")\n",
    "succeeded = sum([1 for r in results if r.succeeded])\n",
    "print(f\"Indexed {len(results)} sections, {succeeded} succeeded\")\n",
    "batch = []"
   ]
  },
  {
   "cell_type": "code",
   "execution_count": 12,
   "metadata": {},
   "outputs": [
    {
     "name": "stdout",
     "output_type": "stream",
     "text": [
      "#########################################\n",
      "Source: Alice Memorial Hospital.jpg\n",
      "Response10. Story: The image shows the first building of the Alice Memorial Hospital on Hollywood Road, used by the Hong Kong College of Medicine to teach Western medicine to young Chinese. This college was established in 1887 and later became part of the University of Hong Kong in 1912.\n",
      "\n",
      "1. Objects:\n",
      "- Building\n",
      "- Signboard with Chinese characters\n",
      "- Windows and doors\n",
      "- Street\n",
      "\n",
      "2. Events:\n",
      "- The photo depicts the Alice Memorial Hospital, where the Hong Kong College of Medicine held its classes.\n",
      "- This institution played a significant role in medical education in Hong Kong.\n",
      "\n",
      "3. Time:\n",
      "- The building dates back to its use starting in 1887.\n",
      "- The photo itself seems to be a historical print, possibly taken before or around 1912 when the college became part of the University of Hong Kong.\n",
      "Response21. Objects:\n",
      "- Building\n",
      "- Signboard with Chinese characters\n",
      "- Windows and doors\n",
      "- Street\n",
      "\n",
      "2. Events:\n",
      "- The photo depicts the Alice Memorial Hospital, where the Hong Kong College of Medicine held its classes.\n",
      "- This institution played a significant role in medical education in Hong Kong.\n",
      "\n",
      "3. Time:\n",
      "- The building dates back to its use starting in 1887.\n",
      "- The photo itself seems to be a historical print, possibly taken before or around 1912 when the college became part of the University of Hong Kong.\n",
      "CaptionThe Hong Kong College of Medicine was established in 1887 to teach Western medicine to young Chinese. It was incorporated into the University of Hong Kong in 1912 Picture shows the first Alice Memorial Hospital on Hollywood Road where the Medical College held its classes.\n",
      "#########################################\n",
      "Source: Main Building, nearing completion.jpg\n",
      "Response1Story: The image depicts the main building of The Hong Kong University nearing completion. The photograph captures the university structure with a mountainous backdrop.\n",
      "\n",
      "Objects: \n",
      "- Main building of The Hong Kong University\n",
      "- Pathway\n",
      "- Trees\n",
      "- Mountains in the background\n",
      "- Construction materials (possibly)\n",
      "\n",
      "Events:\n",
      "- The nearing completion of the main building of The Hong Kong University\n",
      "\n",
      "Time:\n",
      "- Likely early 20th century (around 1910s, as The University of Hong Kong was established in 1911)\n",
      "Response2Objects: \n",
      "- Main building of The Hong Kong University\n",
      "- Pathway\n",
      "- Trees\n",
      "- Mountains in the background\n",
      "- Construction materials (possibly)\n",
      "\n",
      "Events:\n",
      "- The nearing completion of the main building of The Hong Kong University\n",
      "\n",
      "Time:\n",
      "- Likely early 20th century (around 1910s, as The University of Hong Kong was established in 1911)\n",
      "CaptionThe Main Building, nearing completion.\n",
      "#########################################\n",
      "Source: East Library, Main Building.jpg\n",
      "Response1Story: The image depicts a section of a library, identified as part of the East library in the Main Building, taken in the year 1917. The library shelves are filled with numerous books and seem to be well-organized. The setting is historical, reflecting the early 20th-century design and architecture.\n",
      "Objects:\n",
      "- Bookshelves\n",
      "- Books\n",
      "- Ceiling light fixture\n",
      "- Wooden flooring\n",
      "- Wooden library furniture\n",
      "Events:\n",
      "- Storage and organization of books in a library\n",
      "Time:\n",
      "- 1917\n",
      "Response2Objects:\n",
      "- Bookshelves\n",
      "- Books\n",
      "- Ceiling light fixture\n",
      "- Wooden flooring\n",
      "- Wooden library furniture\n",
      "Events:\n",
      "- Storage and organization of books in a library\n",
      "Time:\n",
      "- 1917\n",
      "CaptionPart of the East library, Main Building, in 1917.\n"
     ]
    }
   ],
   "source": [
    "query = \"What is the first library of HKU?\" #your query keywords\n",
    "query_vector = get_embedding(query)\n",
    "\n",
    "r = search_client.search(\n",
    "    search_text=None,\n",
    "    top=3,\n",
    "    vector_queries=[VectorizedQuery(\n",
    "        vector=query_vector,\n",
    "        fields=\"Embedding\"\n",
    "    )]\n",
    ")\n",
    "\n",
    "search_results = []\n",
    "for result in r:\n",
    "    print(\"#########################################\")\n",
    "    print(\"Source: \" + result[\"Image_name\"])\n",
    "    print(\"Response1\" + result[\"Response1\"])\n",
    "    print(\"Response2\" + result[\"Response2\"])\n",
    "    print(\"Caption\" + result[\"Caption\"])\n",
    "    search_results.append(\"Source: \" + result[\"Image_name\"] + result[\"Response1\"] + result[\"Response2\"] + \"; Caption: \" + result[\"Caption\"])"
   ]
  },
  {
   "cell_type": "code",
   "execution_count": 13,
   "metadata": {},
   "outputs": [
    {
     "name": "stdout",
     "output_type": "stream",
     "text": [
      "The first library of the University of Hong Kong (HKU) is the East library in the Main Building. It was already in operation by 1917 [East Library, Main Building.jpg].\n"
     ]
    }
   ],
   "source": [
    "systemMessage = \"\"\"AI Assistant that helps user to answer questions from sources provided. Be brief in your answers.\n",
    "                    Answer ONLY with the facts listed in the list of sources below. \n",
    "                    If there isn't enough information below, say you don't know. Do not generate answers that don't use the sources below. \n",
    "                    Each source has a name followed by colon and the actual information, always include the source name for each fact you use in the response. \n",
    "                    Use square brackets to reference the source, e.g. [info1.txt]. Don't combine sources, list each source separately, e.g. [info1.txt][info2.pdf].\n",
    "                \"\"\"\n",
    "\n",
    "messages = [\n",
    "    {'role' : 'system', 'content' : systemMessage},\n",
    "    {'role' : 'user', 'content' : query + \"   Source:\" + \" \".join(search_results)}\n",
    "]\n",
    "\n",
    "chat_completion = openai.chat.completions.create(\n",
    "    model=\"summer\", # Do not edit this. model=\"deployment_name\"\n",
    "    messages=messages, \n",
    "    temperature=0.7, \n",
    "    max_tokens=1024, \n",
    "    n=1)\n",
    "\n",
    "chat_content = chat_completion.choices[0].message.content\n",
    "print(chat_content)"
   ]
  }
 ],
 "metadata": {
  "kernelspec": {
   "display_name": "histdemo",
   "language": "python",
   "name": "python3"
  },
  "language_info": {
   "codemirror_mode": {
    "name": "ipython",
    "version": 3
   },
   "file_extension": ".py",
   "mimetype": "text/x-python",
   "name": "python",
   "nbconvert_exporter": "python",
   "pygments_lexer": "ipython3",
   "version": "3.12.4"
  }
 },
 "nbformat": 4,
 "nbformat_minor": 2
}
