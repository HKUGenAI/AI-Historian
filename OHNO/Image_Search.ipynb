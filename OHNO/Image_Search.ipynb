{
 "cells": [
  {
   "cell_type": "code",
   "execution_count": 17,
   "metadata": {},
   "outputs": [],
   "source": [
    "import os\n",
    "import base64\n",
    "import re\n",
    "import csv\n",
    "from dotenv import load_dotenv\n",
    "from azure.core.credentials import AzureKeyCredential\n",
    "from azure.search.documents import SearchClient\n",
    "from azure.search.documents.indexes import SearchIndexClient\n",
    "from azure.search.documents.indexes.models import *\n",
    "from azure.search.documents.models import VectorizedQuery\n",
    "import openai\n",
    "from openai import AzureOpenAI"
   ]
  },
  {
   "cell_type": "code",
   "execution_count": 19,
   "metadata": {},
   "outputs": [],
   "source": [
    "load_dotenv()\n",
    "\n",
    "# Get Environment settings from .env file\n",
    "load_dotenv()\n",
    "\n",
    "# Azure AI Search Index Settings\n",
    "service_endpoint = f\"{os.getenv('AZURE_SEARCH_SERVICE_ENDPOINT')}\"\n",
    "index_creds = AzureKeyCredential(os.getenv(\"AZURE_SEARCH_INDEX_KEY\"))\n",
    "index_name = \"images-search-with-keywords\"\n",
    "\n",
    "## Create a client for querying the index\n",
    "search_client = SearchClient(endpoint=service_endpoint, index_name=index_name, credential=index_creds)\n",
    "## Create an index\n",
    "index_client = SearchIndexClient(service_endpoint, index_creds)\n",
    "\n",
    "# Azure Openai Settings\n",
    "openai.api_type = \"azure\"\n",
    "openai.api_key = os.getenv(\"OPENAI_API_KEY\")\n",
    "openai.azure_endpoint = os.getenv(\"OPENAI_API_ENDPOINT\")\n",
    "openai.api_version = os.getenv(\"OPENAI_API_VERSION\")\n",
    "\n",
    "azure_openai_client = AzureOpenAI(\n",
    "    api_key = os.getenv(\"OPENAI_API_KEY\"),\n",
    "    api_version = os.getenv(\"OPENAI_API_VERSION\"),\n",
    "    azure_endpoint = os.getenv(\"OPENAI_API_ENDPOINT\")\n",
    ")"
   ]
  },
  {
   "cell_type": "code",
   "execution_count": 20,
   "metadata": {},
   "outputs": [
    {
     "name": "stdout",
     "output_type": "stream",
     "text": [
      "Finished Indexing: 71 items in total\n"
     ]
    }
   ],
   "source": [
    "def get_embedding(text, model=\"textembedding\"): # model=[Deployment Name], DONOT change this\n",
    "   text = text.replace(\"\\n\", \" \")\n",
    "   return azure_openai_client.embeddings.create(input = [text], model=model).data[0].embedding\n",
    "\n",
    "sections = []\n",
    "with open('outputupdated.csv', 'rt', newline='', encoding='utf-8', errors='ignore') as csvfile:\n",
    "    csvreader = csv.reader(csvfile)\n",
    "    item_num = 0\n",
    "    for item in csvreader:\n",
    "        section = {\n",
    "            \"id\": f\"{item_num}\",\n",
    "            \"Image_name\": item[0],\n",
    "            \"Image_path\": item[1],\n",
    "            \"Response1\": item[2],\n",
    "            \"Response2\": item[3],\n",
    "            \"Caption\": item[4],\n",
    "            \"Embedding\": get_embedding(''.join(item[0:5]))\n",
    "        }\n",
    "        item_num += 1\n",
    "        sections.append(section)\n",
    "print(f\"Finished Indexing: {len(sections)} items in total\")\n"
   ]
  },
  {
   "cell_type": "code",
   "execution_count": 21,
   "metadata": {},
   "outputs": [
    {
     "data": {
      "text/plain": [
       "<azure.search.documents.indexes.models._index.SearchIndex at 0x177588491c0>"
      ]
     },
     "execution_count": 21,
     "metadata": {},
     "output_type": "execute_result"
    }
   ],
   "source": [
    "index = SearchIndex(\n",
    "    name=index_name,\n",
    "    fields=[\n",
    "        SimpleField(name=\"id\", type=\"Edm.String\", key=True),\n",
    "        SearchableField(name=\"Image_name\", type=\"Edm.String\", analyzer_name=\"standard.lucene\", \n",
    "                        filterable=True, sortable=True, facetable=True, searchable=True),\n",
    "        SearchableField(name=\"Image_path\", type=\"Edm.String\", analyzer_name=\"standard.lucene\",\n",
    "                        filterable=True, sortable=True, facetable=True, searchable=True),\n",
    "        SearchableField(name=\"Response1\", type=\"Edm.String\", analyzer_name=\"standard.lucene\",\n",
    "                        filterable=True, sortable=True, facetable=True, searchable=True),\n",
    "        SearchableField(name=\"Response2\", type=\"Edm.String\", analyzer_name=\"standard.lucene\",\n",
    "                        filterable=True, sortable=True, facetable=True, searchable=True),\n",
    "        SearchableField(name=\"Caption\", type=\"Edm.String\", analyzer_name=\"standard.lucene\",\n",
    "                        filterable=True, sortable=True, facetable=True, searchable=True),\n",
    "        SearchField(name=\"Embedding\", type=SearchFieldDataType.Collection(SearchFieldDataType.Single),  \n",
    "            hidden=False, searchable=True, filterable=False, sortable=False, facetable=False,\n",
    "            vector_search_dimensions=1536, vector_search_profile_name=\"my-vector-config\"),\n",
    "    ],\n",
    "    vector_search=VectorSearch(\n",
    "        profiles=[VectorSearchProfile(\n",
    "            name=\"my-vector-config\",\n",
    "            algorithm_configuration_name=\"my-hnsw\")\n",
    "        ],\n",
    "        algorithms=[\n",
    "            HnswAlgorithmConfiguration(name=\"my-hnsw\")\n",
    "        ]\n",
    "    )\n",
    ")\n",
    "\n",
    "index_client.create_or_update_index(index)"
   ]
  },
  {
   "cell_type": "code",
   "execution_count": 23,
   "metadata": {},
   "outputs": [
    {
     "name": "stdout",
     "output_type": "stream",
     "text": [
      "Uploading\n",
      "Indexed 71 sections, 71 succeeded\n"
     ]
    }
   ],
   "source": [
    "results = search_client.upload_documents(documents=sections)\n",
    "print(\"Uploading\")\n",
    "succeeded = sum([1 for r in results if r.succeeded])\n",
    "print(f\"Indexed {len(results)} sections, {succeeded} succeeded\")\n",
    "batch = []"
   ]
  },
  {
   "cell_type": "code",
   "execution_count": 29,
   "metadata": {},
   "outputs": [
    {
     "name": "stdout",
     "output_type": "stream",
     "text": [
      "#########################################\n",
      "Source: Group photo of staff and students of the College.jpg\n",
      "CaptionStaff & students of the College in 1906. Front row: centre, Dr Ho Kai, with Dr. James Cantlie at his left and F.H. May, the Rector of the College and future Governor of Hong Kong, Second row, from left: at his right. 1st Dr. Ma Luk; 2nd Dr. Caxion To; 5th Dr. Kwan Sum Yin; 6th, S.F. Lee (later Dr. S.F.Lee) Last row, from left: 4th, Dr. Ho Ko Tsun\n",
      "#########################################\n",
      "Source: Sun Yat-sen with early students of the College of Medicine.jpg\n",
      "CaptionEarly students of the College of Medicine: From left: 2nd, Sun Yat-sen; 3rd, Ch'en Shao-pai, 4th, Kwan Sum Yin. The other two were Yang Ho-ling & Yu Lieh, who also shared Sun's revolutionary fervour. The four (excepting Kwan) were known as the \"Four Bandits\" for their radical ideas.\n",
      "#########################################\n",
      "Source: Group photo of students of the College of Medicine with Dr Gibson.jpg\n",
      "CaptionGroup photograph of the students of the College of Medicine taken with Dr. Gibson in 1897,\n"
     ]
    }
   ],
   "source": [
    "image_search_query = \"\"\"\n",
    "Notable figures involved in establishing the University of Hong Kong include Lugard, who prepared a memorandum outlining the vision for the University and appointed a Committee of Management [3-8-1]. The Committee included prominent individuals such as May, a rector of the College, Sir Paul Chater, Mody, Ho Kai, Wei Yuk, Lau Chu-pak, and Cecil Clementi. Ho Kai and Wei Yuk were responsible for forming a fund-raising sub-committee [3-8-1]. \n",
    "\n",
    "Another key figure was W. H. Donald, the managing director of the China Mail, who initiated the idea of establishing a University in Hong Kong [2-8-7]. \n",
    "\n",
    "Sun Yat-sen, a student at the College of Medicine, was also involved in the early discussions about reform and change, which eventually played a role in the establishment of the University [2-8-3]. \n",
    "\n",
    "The University of Hong Kong has since produced many notable graduates who have gone on to occupy important positions in various fields, both within Hong Kong and internationally [1-1-7][1-1-17].\"\"\"\n",
    "\n",
    "'''Vector Search for Images'''\n",
    "# query_vector = get_embedding(query)\n",
    "# r = search_client.search(\n",
    "#     search_text=None,\n",
    "#     top=3,\n",
    "#     vector_queries=[VectorizedQuery(\n",
    "#         vector=query_vector,\n",
    "#         fields=\"Embedding\"\n",
    "#     )]\n",
    "# )\n",
    "\n",
    "'''Full text search'''\n",
    "r = search_client.search(\n",
    "    search_text=image_search_query,\n",
    "    top=3\n",
    ")\n",
    "\n",
    "search_results = []\n",
    "for result in r:\n",
    "    print(\"#########################################\")\n",
    "    print(\"Source: \" + result[\"Image_name\"])\n",
    "    print(\"Caption\" + result[\"Caption\"])\n",
    "    search_results.append(\"Source: \" + result[\"Image_name\"] + result[\"Response1\"] + result[\"Response2\"] + \"; Caption: \" + result[\"Caption\"])"
   ]
  },
  {
   "cell_type": "code",
   "execution_count": null,
   "metadata": {},
   "outputs": [
    {
     "name": "stdout",
     "output_type": "stream",
     "text": [
      "The major milestones in the university's founding and early history include its founding in 1911 by Sir Frederick Lugard and others to help in a Chinese renaissance [2-1-2]. A memorandum was prepared in January 1909 by Lugard, outlining the considerations for the university project and the kind of university he expected it to be [3-8-1]. \n",
      "\n",
      "A significant event was Hormusjee Nowrojee Mody's change of mind about Oxford and Cambridge as models and his decision to incorporate a secondary school as part of a university institution. Mody offered HK$150,000 for the erection of the first buildings and the endowment of a University [3-3-1].\n",
      "\n",
      "Another milestone was the drafting of an editorial by W. H. Donald, the managing director of the China Mail, which has generally been accepted as the origin point of the notion of a University of Hong Kong [2-8-7]. The bill of incorporation was read in Legislative Council, with the incorporation becoming effective on the 23rd May 1907 [3-6-4].\n"
     ]
    }
   ],
   "source": [
    "systemMessage = \"\"\"AI Assistant that helps user to answer questions from sources provided. Be brief in your answers, with supporting evidence from only the sources below.\n",
    "                    Answer ONLY with the facts listed in the list of sources below. \n",
    "                    If there isn't enough information below, say you don't know. Do not generate answers that don't use the sources below. \n",
    "                    Each source has a name followed by colon and the actual information, always include the source name for each fact you use in the response. \n",
    "                    Use square brackets to reference the source, e.g. [info1.txt]. Don't combine sources, list each source separately, e.g. [info1.txt][info2.pdf].\n",
    "                \"\"\"\n",
    "\n",
    "messages = [\n",
    "    {'role' : 'system', 'content' : systemMessage},\n",
    "    {'role' : 'user', 'content' : query + \"   Source:\" + \" \".join(search_results)}\n",
    "]\n",
    "\n",
    "chat_completion = openai.chat.completions.create(\n",
    "    model=\"summer\", # Do not edit this. model=\"deployment_name\"\n",
    "    messages=messages, \n",
    "    temperature=0.7, \n",
    "    max_tokens=1024, \n",
    "    n=1)\n",
    "\n",
    "chat_content = chat_completion.choices[0].message.content\n",
    "print(chat_content)"
   ]
  },
  {
   "cell_type": "code",
   "execution_count": 11,
   "metadata": {},
   "outputs": [
    {
     "name": "stdout",
     "output_type": "stream",
     "text": [
      "Sir Ho Kai was a physician and barrister trained in Britain, and he was one of the founders of the Alice Memorial Hospital in Hong Kong. This hospital was opened in February 1887 with the intention of serving the poorer classes and advancing medical science among the Chinese. Sir Ho Kai envisioned the hospital serving as a training school for students who would spread medical knowledge in China. He played a significant role in the establishment of the University of Hong Kong and was part of its fundraising sub-committee. He was also preparing to sign a contract for the construction of an anatomy laboratory and museum. Although he was friendly with Dr. Kwan, a revolutionary figure, there was no suspicion of Sir Ho Kai having any revolutionary tendencies [3-4-6][3-6-5][3-8-3].\n",
      "\n",
      "An image of Sir Ho Kai depicts him in a suit and tie or bow tie, with a medal or decoration. This black and white photograph is accompanied by a caption in English and Chinese, which describes him as the founder of the Alice Memorial Hospital and the College of Medicine, and as a promoter of the university [Sir Ho Kai.jpg].\n",
      "\n",
      "Mrs. Alice Ho, wife of Dr. Ho Kai, is remembered through a hospital built in her memory. A portrait of her, likely from the early 20th century, shows her wearing a necklace with a floral pendant [Mrs Alice Ho.jpg].\n",
      "\n",
      "The Ho Miu Ling Hospital, named after Ho Kai's sister, was opened in 1906 and also functioned as a teaching institution [Ho Miu Ling Hospital.jpg]. \n",
      "\n",
      "A group photo from 1906 shows Dr. Ho Kai with staff and students of the College, including Dr. James Cantlie and F.H. May [Group photo of staff and students of the College.jpg].\n",
      "\n",
      "The College of Medicine also included students such as Sun Yat-sen and Kwan Sum Yin. Sun Yat-sen and three others, known as the \"Four Bandits\" for their radical ideas, are depicted in an early photograph [Sun Yat-sen with early students of the College of Medicine.jpg].\n",
      "\n",
      "The Fung Ping Shan Library, donated by Mr. Fung Ping Shan, was completed in 1932 and later converted into a museum in 1968 [Fung Ping shan Library-2.jpg].\n"
     ]
    }
   ],
   "source": [
    "'''Not this part on Generating Answer'''\n",
    "\n",
    "systemMessage = \"\"\"AI Assistant that helps user to answer questions from sources provided. Be brief in your answers.\n",
    "                    Answer ONLY with the facts listed in the list of sources below. \n",
    "                    If there isn't enough information below, say you don't know. Do not generate answers that don't use the sources below. \n",
    "                    Each source has a name followed by colon and the actual information, always include the source name for each fact you use in the response. \n",
    "                    Use square brackets to reference the source, e.g. [info1.txt]. Don't combine sources, list each source separately, e.g. [info1.txt][info2.pdf].\n",
    "                \"\"\"\n",
    "\n",
    "messages = [\n",
    "    {'role' : 'system', 'content' : systemMessage},\n",
    "    {'role' : 'user', 'content' : query + \"   Source:\" + \" \".join(search_results)}\n",
    "]\n",
    "\n",
    "chat_completion = openai.chat.completions.create(\n",
    "    model=\"summer\", # Do not edit this. model=\"deployment_name\"\n",
    "    messages=messages, \n",
    "    temperature=0.7, \n",
    "    max_tokens=1024, \n",
    "    n=1)\n",
    "\n",
    "chat_content = chat_completion.choices[0].message.content\n",
    "print(chat_content)"
   ]
  }
 ],
 "metadata": {
  "kernelspec": {
   "display_name": "histdemo",
   "language": "python",
   "name": "python3"
  },
  "language_info": {
   "codemirror_mode": {
    "name": "ipython",
    "version": 3
   },
   "file_extension": ".py",
   "mimetype": "text/x-python",
   "name": "python",
   "nbconvert_exporter": "python",
   "pygments_lexer": "ipython3",
   "version": "3.12.4"
  }
 },
 "nbformat": 4,
 "nbformat_minor": 2
}
