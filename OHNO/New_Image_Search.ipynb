{
 "cells": [
  {
   "cell_type": "code",
   "execution_count": 11,
   "metadata": {},
   "outputs": [],
   "source": [
    "import os\n",
    "import base64\n",
    "import re\n",
    "import csv\n",
    "from dotenv import load_dotenv\n",
    "from azure.core.credentials import AzureKeyCredential\n",
    "from azure.search.documents import SearchClient\n",
    "from azure.search.documents.indexes import SearchIndexClient\n",
    "from azure.search.documents.indexes.models import *\n",
    "from azure.search.documents.models import VectorizedQuery\n",
    "import openai\n",
    "from openai import AzureOpenAI"
   ]
  },
  {
   "cell_type": "code",
   "execution_count": 14,
   "metadata": {},
   "outputs": [],
   "source": [
    "load_dotenv()\n",
    "\n",
    "# Get Environment settings from .env file\n",
    "load_dotenv()\n",
    "\n",
    "# Azure AI Search Index Settings\n",
    "service_endpoint = f\"{os.getenv('AZURE_SEARCH_SERVICE_ENDPOINT')}\"\n",
    "index_creds = AzureKeyCredential(os.getenv(\"AZURE_SEARCH_INDEX_KEY\"))\n",
    "index_name = \"images-search-without-keywords\"\n",
    "\n",
    "## Create a client for querying the index\n",
    "search_client = SearchClient(endpoint=service_endpoint, index_name=index_name, credential=index_creds)\n",
    "## Create an index\n",
    "index_client = SearchIndexClient(service_endpoint, index_creds)\n",
    "\n",
    "# Azure Openai Settings\n",
    "openai.api_type = \"azure\"\n",
    "openai.api_key = os.getenv(\"OPENAI_API_KEY\")\n",
    "openai.azure_endpoint = os.getenv(\"OPENAI_API_ENDPOINT\")\n",
    "openai.api_version = os.getenv(\"OPENAI_API_VERSION\")\n",
    "\n",
    "azure_openai_client = AzureOpenAI(\n",
    "    api_key = os.getenv(\"OPENAI_API_KEY\"),\n",
    "    api_version = os.getenv(\"OPENAI_API_VERSION\"),\n",
    "    azure_endpoint = os.getenv(\"OPENAI_API_ENDPOINT\")\n",
    ")"
   ]
  },
  {
   "cell_type": "code",
   "execution_count": 15,
   "metadata": {},
   "outputs": [
    {
     "name": "stdout",
     "output_type": "stream",
     "text": [
      "Finished Indexing: 71 items in total\n"
     ]
    }
   ],
   "source": [
    "def get_embedding(text, model=\"textembedding\"): # model=[Deployment Name], DONOT change this\n",
    "   text = text.replace(\"\\n\", \" \")\n",
    "   return azure_openai_client.embeddings.create(input = [text], model=model).data[0].embedding\n",
    "\n",
    "sections = []\n",
    "with open('outputupdated.csv', 'rt', newline='', encoding='utf-8', errors='ignore') as csvfile:\n",
    "    csvreader = csv.reader(csvfile)\n",
    "    item_num = 0\n",
    "    for item in csvreader:\n",
    "        section = {\n",
    "            \"id\": f\"{item_num}\",\n",
    "            \"Image_name\": item[0],\n",
    "            \"Image_path\": item[1],\n",
    "            \"Caption\": item[4]\n",
    "        }\n",
    "        item_num += 1\n",
    "        sections.append(section)\n",
    "print(f\"Finished Indexing: {len(sections)} items in total\")\n"
   ]
  },
  {
   "cell_type": "code",
   "execution_count": 16,
   "metadata": {},
   "outputs": [
    {
     "data": {
      "text/plain": [
       "<azure.search.documents.indexes.models._index.SearchIndex at 0x1c25d549010>"
      ]
     },
     "execution_count": 16,
     "metadata": {},
     "output_type": "execute_result"
    }
   ],
   "source": [
    "index = SearchIndex(\n",
    "    name=index_name,\n",
    "    fields=[\n",
    "        SimpleField(name=\"id\", type=\"Edm.String\", key=True),\n",
    "        SearchableField(name=\"Image_name\", type=\"Edm.String\", analyzer_name=\"standard.lucene\", \n",
    "                        filterable=True, sortable=True, facetable=True, searchable=True),\n",
    "        SearchableField(name=\"Image_path\", type=\"Edm.String\", analyzer_name=\"standard.lucene\",\n",
    "                        filterable=True, sortable=True, facetable=True, searchable=True),\n",
    "        SearchableField(name=\"Caption\", type=\"Edm.String\", analyzer_name=\"standard.lucene\",\n",
    "                        filterable=True, sortable=True, facetable=True, searchable=True),\n",
    "    ]\n",
    ")\n",
    "\n",
    "index_client.create_or_update_index(index)"
   ]
  },
  {
   "cell_type": "code",
   "execution_count": 17,
   "metadata": {},
   "outputs": [
    {
     "name": "stdout",
     "output_type": "stream",
     "text": [
      "Uploading\n",
      "Indexed 71 sections, 71 succeeded\n"
     ]
    }
   ],
   "source": [
    "results = search_client.upload_documents(documents=sections)\n",
    "print(\"Uploading\")\n",
    "succeeded = sum([1 for r in results if r.succeeded])\n",
    "print(f\"Indexed {len(results)} sections, {succeeded} succeeded\")\n",
    "batch = []"
   ]
  },
  {
   "cell_type": "code",
   "execution_count": 20,
   "metadata": {},
   "outputs": [
    {
     "name": "stdout",
     "output_type": "stream",
     "text": [
      "#########################################\n",
      "Source: Group photo of students of the College of Medicine with Dr Gibson.jpg\n",
      "CaptionGroup photograph of the students of the College of Medicine taken with Dr. Gibson in 1897,\n",
      "#########################################\n",
      "Source: Group photo of staff and students of the College.jpg\n",
      "CaptionStaff & students of the College in 1906. Front row: centre, Dr Ho Kai, with Dr. James Cantlie at his left and F.H. May, the Rector of the College and future Governor of Hong Kong, Second row, from left: at his right. 1st Dr. Ma Luk; 2nd Dr. Caxion To; 5th Dr. Kwan Sum Yin; 6th, S.F. Lee (later Dr. S.F.Lee) Last row, from left: 4th, Dr. Ho Ko Tsun\n",
      "#########################################\n",
      "Source: Sun Yat-sen with early students of the College of Medicine.jpg\n",
      "CaptionEarly students of the College of Medicine: From left: 2nd, Sun Yat-sen; 3rd, Ch'en Shao-pai, 4th, Kwan Sum Yin. The other two were Yang Ho-ling & Yu Lieh, who also shared Sun's revolutionary fervour. The four (excepting Kwan) were known as the \"Four Bandits\" for their radical ideas.\n"
     ]
    }
   ],
   "source": [
    "image_search_query = \"\"\"\n",
    "Notable figures involved in establishing the University of Hong Kong include Lugard, who prepared a memorandum outlining the vision for the University and appointed a Committee of Management [3-8-1]. The Committee included prominent individuals such as May, a rector of the College, Sir Paul Chater, Mody, Ho Kai, Wei Yuk, Lau Chu-pak, and Cecil Clementi. Ho Kai and Wei Yuk were responsible for forming a fund-raising sub-committee [3-8-1]. \n",
    "\n",
    "Another key figure was W. H. Donald, the managing director of the China Mail, who initiated the idea of establishing a University in Hong Kong [2-8-7]. \n",
    "\n",
    "Sun Yat-sen, a student at the College of Medicine, was also involved in the early discussions about reform and change, which eventually played a role in the establishment of the University [2-8-3]. \n",
    "\n",
    "The University of Hong Kong has since produced many notable graduates who have gone on to occupy important positions in various fields, both within Hong Kong and internationally [1-1-7][1-1-17].\"\"\"\n",
    "\n",
    "'''Full text search'''\n",
    "r = search_client.search(\n",
    "    search_text=image_search_query,\n",
    "    top=3\n",
    ")\n",
    "\n",
    "search_results = []\n",
    "for result in r:\n",
    "    print(\"#########################################\")\n",
    "    print(\"Source: \" + result[\"Image_name\"])\n",
    "    print(\"Caption\" + result[\"Caption\"])\n",
    "    search_results.append(\"Source: \" + result[\"Image_name\"] + \"; Caption: \" + result[\"Caption\"])"
   ]
  },
  {
   "cell_type": "code",
   "execution_count": 13,
   "metadata": {},
   "outputs": [
    {
     "name": "stdout",
     "output_type": "stream",
     "text": [
      "The first library of the University of Hong Kong (HKU) is the East library in the Main Building. It was already in operation by 1917 [East Library, Main Building.jpg].\n"
     ]
    }
   ],
   "source": [
    "'''Not this part on Generating Answer'''\n",
    "\n",
    "systemMessage = \"\"\"AI Assistant that helps user to answer questions from sources provided. Be brief in your answers.\n",
    "                    Answer ONLY with the facts listed in the list of sources below. \n",
    "                    If there isn't enough information below, say you don't know. Do not generate answers that don't use the sources below. \n",
    "                    Each source has a name followed by colon and the actual information, always include the source name for each fact you use in the response. \n",
    "                    Use square brackets to reference the source, e.g. [info1.txt]. Don't combine sources, list each source separately, e.g. [info1.txt][info2.pdf].\n",
    "                \"\"\"\n",
    "\n",
    "messages = [\n",
    "    {'role' : 'system', 'content' : systemMessage},\n",
    "    {'role' : 'user', 'content' : query + \"   Source:\" + \" \".join(search_results)}\n",
    "]\n",
    "\n",
    "chat_completion = openai.chat.completions.create(\n",
    "    model=\"summer\", # Do not edit this. model=\"deployment_name\"\n",
    "    messages=messages, \n",
    "    temperature=0.7, \n",
    "    max_tokens=1024, \n",
    "    n=1)\n",
    "\n",
    "chat_content = chat_completion.choices[0].message.content\n",
    "print(chat_content)"
   ]
  }
 ],
 "metadata": {
  "kernelspec": {
   "display_name": "histdemo",
   "language": "python",
   "name": "python3"
  },
  "language_info": {
   "codemirror_mode": {
    "name": "ipython",
    "version": 3
   },
   "file_extension": ".py",
   "mimetype": "text/x-python",
   "name": "python",
   "nbconvert_exporter": "python",
   "pygments_lexer": "ipython3",
   "version": "3.12.4"
  }
 },
 "nbformat": 4,
 "nbformat_minor": 2
}
